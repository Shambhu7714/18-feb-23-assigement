{
 "cells": [
  {
   "attachments": {},
   "cell_type": "markdown",
   "metadata": {},
   "source": [
    "Q1. What is an API? Give an example, where an API is used in real life."
   ]
  },
  {
   "attachments": {},
   "cell_type": "markdown",
   "metadata": {},
   "source": [
    "Ans:- a API is connection/communication create between user and data base and through API communication create between\n",
    " user and backend connuction satbilite \n",
    "\n",
    " example :- we are send the money throuh paytm, phonepy and gpay  so gpay not srore banking processing , bank processing\n",
    "  app the data store the all information when we are send the money then API communation between gpay and bank surver \n",
    "  and to check all informatoib is TRUE then send money so here API connect both the system "
   ]
  },
  {
   "attachments": {},
   "cell_type": "markdown",
   "metadata": {},
   "source": [
    "Q2. Give advantages and disadvantages of using API. \n"
   ]
  },
  {
   "attachments": {},
   "cell_type": "markdown",
   "metadata": {},
   "source": [
    "Advantages of API :-\n",
    " 1. Automation \n",
    " 2. Application\n",
    " 3. More Scope\n",
    " 4. Efficiency\n",
    " 5. Integration\n",
    " 6. Personalization\n",
    "\n",
    "# Disadvantage of API :-\n",
    "  1. Maintenance cost is very high\n",
    "  2. it can crash when testing API\n",
    "  3. imprecise boundray delineation \n",
    "  5. A fixed scale is necessary \n",
    "  6. to create API, programming knowladge is necessary."
   ]
  },
  {
   "attachments": {},
   "cell_type": "markdown",
   "metadata": {},
   "source": [
    "Q3. What is a Web API? Differentiate between API and Web API."
   ]
  },
  {
   "attachments": {},
   "cell_type": "markdown",
   "metadata": {},
   "source": [
    "A web API is an application programming interface for either a web serever or a web browser \n",
    "  it is a web developement concept usually limited to a web application\n",
    "\n",
    "   #  Differentiate between API and Web API.\n",
    "     A web API is a programming interfacwe \n",
    "     here three mesured API SOPA Web API , REST web API and WSDL API\n",
    "# API:\n",
    "  1. an API is the Application programmer interface use to \n",
    "      communicate between clint surver and database \n",
    "        like HTTP and XML-based program "
   ]
  },
  {
   "attachments": {},
   "cell_type": "markdown",
   "metadata": {},
   "source": [
    "Q4. Explain REST and SOAP Architecture. Mention shortcomings of SOAP."
   ]
  },
  {
   "attachments": {},
   "cell_type": "markdown",
   "metadata": {},
   "source": [
    "# REST :- \n",
    "          REST is stands for Representational State Transfer , which is a set of principles for bulding \n",
    "          web serivice that use HTTP as the communication protocol \n",
    "\n",
    "# SOPE :- \n",
    "        SOPE is stands for Simple Object Access Protocol its follows a strict standrad to allow communication \n",
    "        between the client and the server  \n",
    "\n",
    "# REST and SOAP Architecture. \n",
    "       REST:- HTTP                         SOPE\n",
    "                |                            |                           \n",
    "        PUT ,GET, POST , DELET              TCP / SMPT        \n",
    "        simplicity                             XML\n",
    "        scalability                             |      \n",
    "        Flexibility                            WSDL"
   ]
  },
  {
   "attachments": {},
   "cell_type": "markdown",
   "metadata": {},
   "source": [
    "Q5. Differentiate between REST and SOAP."
   ]
  },
  {
   "attachments": {},
   "cell_type": "markdown",
   "metadata": {},
   "source": [
    "# REST                                                         # SOPE\n",
    " 1. An architectural style protocol                             1. A XML WSDL message protocol \n",
    " 2. Use XML or JSON to send and recive data                     2. use WSDL for communication between consumer and provider\n",
    " 3. simply calls services via URL path                          3. Invokes services by calling RPC methord\n",
    " 4. Transfer is over HTTP only                                  4. Transfer is over HTTP,Also use other protocols SMTP FTP etc\n",
    " 5. easy to call from javascript                                5. javascript can call SOAP but it is diffult to implement\n",
    " "
   ]
  }
 ],
 "metadata": {
  "language_info": {
   "name": "python"
  },
  "orig_nbformat": 4
 },
 "nbformat": 4,
 "nbformat_minor": 2
}
